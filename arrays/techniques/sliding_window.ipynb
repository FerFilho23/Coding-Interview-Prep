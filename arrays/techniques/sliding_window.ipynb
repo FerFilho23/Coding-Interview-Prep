{
 "cells": [
  {
   "cell_type": "markdown",
   "id": "f1cd9e25",
   "metadata": {},
   "source": [
    "# Sliding Window Technique\n",
    "\n",
    "Sliding Window Technique is a method used to solve problems that involve subarrays or substrings. \n",
    "\n",
    "- Instead of repeatedly iterating over the same elements, the sliding window maintains a range (or “window”) that moves step-by-step through the data, updating results incrementally.\n",
    "- The main idea is to use the results of previous window to do computations for the next window.\n",
    "- Commonly used for problems like finding subarrays with a specific sum, finding the longest substring with unique characters, or solving problems that require a fixed-size window to process elements efficiently.\n",
    "\n",
    "\n"
   ]
  },
  {
   "cell_type": "markdown",
   "id": "73830270",
   "metadata": {},
   "source": [
    "## Example - Maximum Sum of a Subarray with K Elements\n",
    "Given an array arr[] and an integer k, we need to calculate the maximum sum of a subarray having size exactly k.\n",
    "\n",
    "--\n",
    "\n",
    "**Input**  : arr[] = [5, 2, -1, 0, 3], k = 3\n",
    "\n",
    "**Output** : 6\n",
    "\n",
    "**Explanation** : We get maximum sum by considering the subarray [5, 2 , -1]\n",
    "\n",
    "--\n",
    "\n",
    "**Input**  : arr[] = [1, 4, 2, 10, 23, 3, 1, 0, 20], k = 4 \n",
    "\n",
    "**Output** : 39\n",
    "\n",
    "**Explanation** : We get maximum sum by adding subarray [4, 2, 10, 23] of size 4.\n",
    "\n"
   ]
  },
  {
   "cell_type": "markdown",
   "id": "077666b4",
   "metadata": {},
   "source": []
  },
  {
   "cell_type": "markdown",
   "id": "17944ffe",
   "metadata": {},
   "source": [
    "### Naive Approach\n",
    "\n",
    "#### Complexity: O(n×k) Time and O(1) Space"
   ]
  },
  {
   "cell_type": "code",
   "execution_count": 9,
   "id": "f59dd228",
   "metadata": {},
   "outputs": [
    {
     "name": "stdout",
     "output_type": "stream",
     "text": [
      "Maximum sum of a subarray of size 3 is 6\n"
     ]
    }
   ],
   "source": [
    "def maxSum(arr, n, k):\n",
    "    n = len(arr)\n",
    "    if n < k:\n",
    "        print(\"Invalid\")\n",
    "        return -1\n",
    "\n",
    "    #Initialize result\n",
    "    max_sum = float('-inf')\n",
    "    \n",
    "    #Consider all blocks\n",
    "    for i in range(n - k + 1):\n",
    "        #Compute sum of current block\n",
    "        curr_sum = 0\n",
    "        for j in range(k):\n",
    "            curr_sum += arr[i + j]\n",
    "        \n",
    "        #Update result if required\n",
    "        max_sum = max(curr_sum, max_sum)\n",
    "        \n",
    "    return max_sum\n",
    "\n",
    "if __name__ == \"__main__\":\n",
    "    arr = [5, 2, -1, 0, 3]\n",
    "    k = 3\n",
    "    print(\"Maximum sum of a subarray of size\", k, \"is\", maxSum(arr, n, k))\n",
    "    \n",
    "    "
   ]
  },
  {
   "cell_type": "markdown",
   "id": "6057a601",
   "metadata": {},
   "source": [
    "### Using the Sliding Window Technique\n",
    "\n",
    "- We compute the sum of the first k elements out of n terms using a linear loop and store the sum in variable window_sum.\n",
    "- Then we will traverse linearly over the array till it reaches the end and simultaneously keep track of the maximum sum.\n",
    "- To get the current sum of a block of k elements just subtract the first element from the previous block and add the last element of the current block.\n",
    "\n",
    "#### Complexity: O(n) Time and O(1) Space"
   ]
  },
  {
   "cell_type": "markdown",
   "id": "5d89ae43",
   "metadata": {},
   "source": [
    "Consider an array arr[] = {5, 2, -1, 0, 3} and value of k = 3 and n = 5\n",
    "\n",
    "This is the initial phase where we have calculated the initial window sum starting from index 0 . At this stage the window sum is 6. Now, we set the maximum_sum as current_window i.e 6. \n",
    "\n",
    "![sliding_window1](../img/sliding_window1.png)\n",
    "\n",
    "Now, we slide our window by a unit index. Therefore, now it discards 5 from the window and adds 0 to the window. Hence, we will get our new window sum by subtracting 5 and then adding 0 to it. So, our window sum now becomes 1. Now, we will compare this window sum with the maximum_sum. As it is smaller, we won't change the maximum_sum. \n",
    "\n",
    "![sliding_window2](../img/sliding_window2.png)\n",
    "\n",
    "Similarly, now once again we slide our window by a unit index and obtain the new window sum to be 2. Again we check if this current window sum is greater than the maximum_sum till now. Once, again it is smaller so we don't change the maximum_sum.\n",
    "Therefore, for the above array our maximum_sum is 6.\n",
    "\n",
    "![sliding_window2](../img/sliding_window3.png)\n"
   ]
  },
  {
   "cell_type": "code",
   "execution_count": 10,
   "id": "de46d49e",
   "metadata": {},
   "outputs": [
    {
     "name": "stdout",
     "output_type": "stream",
     "text": [
      "Maximum sum of a subarray of size 3 is 6\n"
     ]
    }
   ],
   "source": [
    "def maxSumSlidingWindow(arr, k):\n",
    "    n = len(arr)\n",
    "    if n < k:\n",
    "        print(\"Invalid\")\n",
    "        return -1\n",
    "\n",
    "    #Compute sum of first window of size k\n",
    "    window_sum = sum(arr[:k])\n",
    "    max_sum = window_sum\n",
    "    \n",
    "    #Compute the sums of remaining windows by\n",
    "    #removing first element of previous window and adding last element of current window.\n",
    "    for i in range(n - k):\n",
    "        window_sum = window_sum - arr[i] + arr[i + k]\n",
    "        max_sum = max(window_sum, max_sum)\n",
    "    \n",
    "    return max_sum\n",
    "\n",
    "if __name__ == \"__main__\":\n",
    "    arr = [5, 2, -1, 0, 3]\n",
    "    k = 3\n",
    "    print(\"Maximum sum of a subarray of size\", k, \"is\", maxSumSlidingWindow(arr, k))"
   ]
  },
  {
   "cell_type": "markdown",
   "id": "53bc98ba",
   "metadata": {},
   "source": [
    "## How to use Sliding Window Technique?\n",
    "\n"
   ]
  },
  {
   "cell_type": "markdown",
   "id": "5ea7a183",
   "metadata": {},
   "source": [
    "## How to Identify Sliding Window Problems?\n",
    "\n",
    "- These problems generally require Finding Maximum/Minimum Subarray, Substrings which satisfy some specific condition.\n",
    "- The size of the subarray or substring ‘k’ will be given in some of the problems.\n",
    "- These problems can easily be solved in O(nˆ2) time complexity using nested loops, using sliding window we can solve these in O(n) Time Complexity.\n",
    "\n",
    "\n",
    "Required Time Complexity: O(n) or O(n log n)\n",
    "\n",
    "Constraints: n <= 106 \n"
   ]
  },
  {
   "cell_type": "markdown",
   "id": "02574848",
   "metadata": {},
   "source": []
  }
 ],
 "metadata": {
  "kernelspec": {
   "display_name": "ml-zoomcamp",
   "language": "python",
   "name": "python3"
  },
  "language_info": {
   "codemirror_mode": {
    "name": "ipython",
    "version": 3
   },
   "file_extension": ".py",
   "mimetype": "text/x-python",
   "name": "python",
   "nbconvert_exporter": "python",
   "pygments_lexer": "ipython3",
   "version": "3.11.13"
  }
 },
 "nbformat": 4,
 "nbformat_minor": 5
}
