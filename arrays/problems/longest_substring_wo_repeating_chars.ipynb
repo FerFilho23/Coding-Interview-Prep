{
 "cells": [
  {
   "cell_type": "markdown",
   "id": "705c0538",
   "metadata": {},
   "source": [
    "# Longest Substring Without Repeating Characters\n",
    "\n",
    "Given a string s, find the length of the longest substring without duplicate characters.\n",
    "\n",
    "**Example 1:**\n",
    "\n",
    "**Input:** s = \"abcabcbb\"\n",
    "\n",
    "**Output:** 3\n",
    "\n",
    "**Explanation:** The answer is \"abc\", with the length of 3.\n",
    "\n",
    "<br>\n",
    "\n",
    "**Example 2:**\n",
    "\n",
    "**Input: s = \"bbbbb\"**\n",
    "\n",
    "**Output:** 1\n",
    "\n",
    "**Explanation**: The answer is \"b\", with the length of 1.\n",
    "\n",
    "<br>\n",
    "\n",
    "**Example 3:**\n",
    "\n",
    "**Input:** s = \"pwwkew\"\n",
    "\n",
    "**Output:** 3\n",
    "\n",
    "**Explanation:** The answer is \"wke\", with the length of 3.\n",
    "\n",
    "Notice that the answer must be a substring, \"pwke\" is a subsequence and not a substring.\n",
    " \n",
    "<br>\n",
    "\n",
    "**Constraints:**\n",
    "\n",
    "0 <= s.length <= 5 * 104\n",
    "\n",
    "s consists of English letters, digits, symbols and spaces."
   ]
  },
  {
   "cell_type": "markdown",
   "id": "f197b1e6",
   "metadata": {},
   "source": []
  },
  {
   "cell_type": "code",
   "execution_count": 9,
   "id": "fa5e6f54",
   "metadata": {},
   "outputs": [
    {
     "name": "stdout",
     "output_type": "stream",
     "text": [
      "Longest substring without repeating characters: 3\n"
     ]
    }
   ],
   "source": [
    "def lengthOfLongestSubstring(string):\n",
    "    longest_substring_size = 0\n",
    "    left = 0\n",
    "    \n",
    "    # Dictionary to store the last positions of occurrences\n",
    "    substring_chars = {}\n",
    "    \n",
    "    for right, char in enumerate(string):\n",
    "        # If the character is already in the dictionary and its index is within the current window\n",
    "        if char in substring_chars and substring_chars[char] >= left:\n",
    "            # Move the left pointer to the right of the last occurrence of the current character\n",
    "            left = substring_chars[char] + 1\n",
    "            \n",
    "        substring_chars[char] = right\n",
    "        longest_substring_size = max(longest_substring_size, right - left + 1)\n",
    "    \n",
    "    \n",
    "    return longest_substring_size\n",
    "\n",
    "if __name__ == \"__main__\":\n",
    "    string = 'abcabcbb'\n",
    "    print('Longest substring without repeating characters:', lengthOfLongestSubstring(string))"
   ]
  },
  {
   "cell_type": "markdown",
   "id": "8c1074c4",
   "metadata": {},
   "source": [
    "## Complexity\n",
    "\n",
    "#### Time: O(n)\n",
    "#### Space: O(min(n, |Σ|)) (Σ = character set)"
   ]
  },
  {
   "cell_type": "markdown",
   "id": "037e6915",
   "metadata": {},
   "source": []
  }
 ],
 "metadata": {
  "kernelspec": {
   "display_name": "ml-zoomcamp",
   "language": "python",
   "name": "python3"
  },
  "language_info": {
   "codemirror_mode": {
    "name": "ipython",
    "version": 3
   },
   "file_extension": ".py",
   "mimetype": "text/x-python",
   "name": "python",
   "nbconvert_exporter": "python",
   "pygments_lexer": "ipython3",
   "version": "3.11.13"
  }
 },
 "nbformat": 4,
 "nbformat_minor": 5
}
